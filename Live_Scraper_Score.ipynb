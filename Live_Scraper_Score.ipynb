{
  "nbformat": 4,
  "nbformat_minor": 0,
  "metadata": {
    "colab": {
      "name": "Live Scraper Score.ipynb",
      "provenance": [],
      "authorship_tag": "ABX9TyNHOr1gOnGAlKZLaWcjwh73",
      "include_colab_link": true
    },
    "kernelspec": {
      "name": "python3",
      "display_name": "Python 3"
    }
  },
  "cells": [
    {
      "cell_type": "markdown",
      "metadata": {
        "id": "view-in-github",
        "colab_type": "text"
      },
      "source": [
        "<a href=\"https://colab.research.google.com/github/elvinaqa/Scraper-Text-Analyzer-/blob/master/Live_Scraper_Score.ipynb\" target=\"_parent\"><img src=\"https://colab.research.google.com/assets/colab-badge.svg\" alt=\"Open In Colab\"/></a>"
      ]
    },
    {
      "cell_type": "code",
      "metadata": {
        "id": "5kSFB16HuMoR",
        "colab_type": "code",
        "colab": {
          "base_uri": "https://localhost:8080/",
          "height": 104
        },
        "outputId": "33d44bb4-1d49-41f6-df0b-3f5f18160468"
      },
      "source": [
        "from bs4 import BeautifulSoup\n",
        "import requests, os\n",
        "\n",
        "__author__ = \"@gwuah\"\n",
        "\n",
        "def scrape_from_livescore() :\n",
        "  print('Fetching markup from livescores.com ..')\n",
        "\n",
        "  # try catching all possible http errors\n",
        "  try :\n",
        "    livescore_html = requests.get('http://www.livescores.com/')\n",
        "  except Exception as e :\n",
        "    return print('An error occured as: ', e)\n",
        "\n",
        "  print(\"Feeding markup to beautiful soup .. \\n\")\n",
        "  parsed_markup = BeautifulSoup(livescore_html.text, 'html.parser')\n",
        "\n",
        "  # dictionary to contain score\n",
        "  scores = {}\n",
        "\n",
        "  # scrape needed data from the parsed markup\n",
        "  for element in parsed_markup.find_all(\"div\", \"row-gray\") :\n",
        "\n",
        "    match_name_element = element.find(attrs={\"class\": \"scorelink\"})\n",
        "\n",
        "    if match_name_element is not None :\n",
        "\n",
        "      # this means the match is about to be played\n",
        "      match_name = match_name_element.get('href').split('/')[4]\n",
        "      home_team_score = element.find(\"div\", \"sco\").get_text().split(\"-\")[0].strip()\n",
        "      away_team_score = element.find(\"div\", \"sco\").get_text().split(\"-\")[1].strip()\n",
        "\n",
        "      # add our data to our dictionary\n",
        "      scores[match_name] = (home_team_score, away_team_score)\n",
        "    else :\n",
        "      # we need to use a different method to get our data\n",
        "      home_team = '-'.join(element.find(\"div\", \"tright\").get_text().strip().split(\" \"))\n",
        "      away_team = '-'.join(element.find(attrs={\"class\": \"ply name\"}).get_text().strip().split(\" \"))\n",
        "      \n",
        "      home_team_score = element.find(\"div\", \"sco\").get_text().split(\"-\")[0].strip()\n",
        "      away_team_score = element.find(\"div\", \"sco\").get_text().split(\"-\")[1].strip()\n",
        "      \n",
        "      match_name = '{}-vs-{}'.format(home_team, away_team)\n",
        "      \n",
        "      # add our datat to our dictionary\n",
        "      scores[match_name] = (home_team_score, away_team_score)\n",
        "\n",
        "  return scores\n",
        "\n",
        "scoreboard = scrape_from_livescore()\n",
        "print(scoreboard)"
      ],
      "execution_count": 1,
      "outputs": [
        {
          "output_type": "stream",
          "text": [
            "Fetching markup from livescores.com ..\n",
            "Feeding markup to beautiful soup .. \n",
            "\n",
            "{'watford-vs-middlesbrough': ('1', '0'), 'bordeaux-vs-lyon': ('0', '0'), 'eupen-vs-gent': ('1', '0'), 'lommel-vs-lierse-kempenzonen': ('3', '2'), 'rizespor-vs-fenerbahce': ('1', '2'), 'eintracht-braunschweig-vs-hertha-berlin': ('3', '2'), 'tsv-havelse-vs-mainz-05': ('1', '0'), 'Montreal-Impact-vs-New-York-City-FC': ('?', '?'), 'chongqing-lifan-vs-hebei-cffc': ('3', '1'), 'shijiazhuang-ever-bright-vs-wuhan-zall': ('1', '0'), 'fc-dordrecht-vs-excelsior': ('1', '3'), 'fc-eindhoven-vs-helmond-sport': ('0', '0'), 'fc-volendam-vs-jong-fc-utrecht': ('0', '1'), 'cambuur-vs-go-ahead-eagles': ('0', '1'), 'jong-az-alkmaar-vs-jong-psv': ('1', '1'), 'nec-nijmegen-vs-jong-ajax': ('1', '0'), 'feirense-vs-chaves': ('?', '?'), 'academico-viseu-vs-academica': ('?', '?'), 'menemenspor-vs-altinordu': ('0', '2'), 'sigma-olomouc-vs-bohemians-1905': ('3', '0'), 'fk-blansko-vs-dukla-praha': ('1', '0'), 'hradec-kralove-vs-mfk-chrudim': ('1', '0'), 'soenderjyske-vs-fc-midtjylland': ('2', '0'), 'fc-helsingoer-vs-silkeborg': ('4', '2'), 'hb-koege-vs-hvidovre': ('2', '1'), 'FK-Kauno-Zalgiris-vs-FK-Panevezys': ('?', '?'), 'Zalgiris-Vilnius-vs-Banga-Gargzdai': ('?', '?'), 'Riteriai-vs-Suduva': ('?', '?'), 'akropolis-if-vs-oesters-if': ('2', '2'), 'dalkurd-ff-vs-umeaa': ('0', '0'), 'orgryte-vs-ljungskile': ('4', '0'), 'trelleborgs-ff-vs-ik-brage': ('0', '1'), 'dynamo-kyiv-vs-desna': ('0', '0'), 'basel-vs-saarbruecken': ('1', '5'), 'Torino-vs-Como': ('?', '?'), 'feralpisalo-vs-lecco': ('2', '1'), 'pas-giannina-vs-levadiakos': ('1', '3'), 'spal-2013-vs-vis-pesaro': ('2', '0'), 'ssc-napoli-vs-pescara': ('4', '0'), 'fc-vaduz-vs-turkgucu-munchen': ('1', '2'), 'VfB-Auerbach-vs-FSV-Zwickau': ('0', '0'), 'FC-Buderich-02-vs-TUS-Grevenbroich': ('?', '?'), 'l-entregu-cf-vs-up-langreo': ('0', '3'), 'Morpeth-Town-FC-vs-Hartlepool-United': ('?', '?'), 'KV-Mechelen-vs-UR-La-Louviere-Centre': ('?', '?'), 'Newry-City-AFC-vs-Dungannon-Swifts': ('?', '?'), 'Taunton-Town-vs-Yeovil-Town': ('?', '?'), 'Elche-vs-Real-Murcia': ('?', '?'), 'FC-Noah-vs-Ararat': ('2', '1'), 'Shirak-vs-Van': ('?', '?'), 'ararat-armenia-vs-lori': ('1', '2'), 'alashkert-fc-ii-vs-urartu-fc-ii': ('1', '1'), 'Noravank-vs-Pyunik-II': ('0', '1'), 'university-azzurri-fc-vs-mindil-aces': ('5', '3'), 'Port-Darwin-vs-Darwin-Hearts-FC': ('?', '?'), 'north-eastern-metro-stars-vs-campbelltown-city': ('5', '1'), 'Adelaide-City-vs-Adelaide-Raiders': ('?', '?'), 'Adelaide-Comets-vs-Adelaide-United-Youth': ('?', '?'), 'Para-Hills-Knights-vs-Adelaide-Blue-Eagles': ('?', '?'), 'Cumberland-United-vs-Croydon-Kings': ('?', '?'), 'Adelaide-Olympic-vs-Modbury-Jets': ('?', '?'), 'blacktown-city-fc-vs-sydney-fc-youth': ('1', '1'), 'manly-united-vs-north-shore-mariners': ('0', '2'), 'Marconi-Stallions-vs-Mt-Druitt-Town-Rangers': ('?', '?'), 'Belconnen-United-vs-Tigers-FC': ('?', '?'), 'Canberra-FC-vs-Gungahlin-United': ('?', '?'), 'Broadmeadow-Magic-vs-Weston-Workers': ('?', '?'), 'Edgeworth-Eagles-vs-Valentine-Phoenix': ('?', '?'), 'Lambton-Jaffas-FC-vs-Charlestown-Azzurri': ('?', '?'), 'the-gap-vs-albany-creek': ('0', '4'), 'Grange-Thistle-vs-North-Star-FC': ('?', '?'), 'Acacia-Ridge-FC-vs-Brisbane-Knights': ('?', '?'), 'Caboolture-FC-vs-St-George-Willawong-FC': ('?', '?'), 'Centenary-Stormers-vs-Bayside-United': ('?', '?'), 'Toowong-vs-Taringa-Rovers': ('?', '?'), 'South-Hobart-vs-Devonport-City': ('?', '?'), 'Riverside-Olympic-vs-Olympia-FC-Warriors': ('?', '?'), 'Clarence-Zebras-vs-Glenorchy-Knights': ('?', '?'), 'Launceston-City-vs-Kingborough-Lions': ('?', '?'), 'wolves-fc-vs-ipswich-knights': ('3', '1'), 'Souths-United-vs-Holland-Park-Hawks': ('?', '?'), 'Southside-Eagles-vs-Mitchelton': ('?', '?'), 'Rochedale-Rovers-vs-Sunshine-Coast': ('?', '?'), 'Western-Pride-vs-SWQ-Thunder': ('?', '?'), 'Gold-Coast-United-FC-vs-Olympic-FC': ('?', '?'), 'Brisbane-City-vs-Redlands-United': ('?', '?'), 'Gold-Coast-Knights-vs-Brisbane-Strikers': ('?', '?'), 'Eastern-Suburbs-vs-Capalaba': ('?', '?'), 'rapid-wien-vs-admira-moedling': ('4', '1'), 'lask-vs-austria-wien': ('1', '0'), 'austria-lustenau-vs-sv-horn': ('1', '1'), 'floridsdorfer-ac-vs-sv-lafnitz': ('1', '2'), 'kapfenberger-sv-vs-fc-wacker-innsbruck': ('0', '3'), 'sk-austria-klagenfurt-vs-bw-linz': ('3', '1'), 'Mattersburg-(A)-vs-ASV-Drassburg': ('?', '?'), 'SK-Rapid-Wien-II-vs-SC-Neusiedl-am-See-1919': ('?', '?'), 'FC-Marchfeld-Mannsdorf-vs-FC-Mauerwerk': ('?', '?'), 'Wiener-Neustadt-vs-ASV-Drassburg': ('0', '1'), 'Bad-Gleichenberg-vs-Ried-(A)': ('3', '0'), 'SC-Weiz-vs-SV-St.-Anna': ('2', '0'), 'SV-Spittal/Drau-vs-FC-Wels': ('1', '1'), 'wsc-hertha-vs-voecklamarkt': ('2', '1'), 'sv-kuchl-vs-pinzgau-saalfelden': ('2', '0'), 'seekirchen-vs-sak-1914': ('4', '0'), 'st-johann-vs-sv-groedig': ('1', '2'), 'FC-Kitzbuehel-vs-Hall': ('?', '?'), 'WSG-Swarovski-Tirol-II-vs-FC-Wacker-Innsbruck-II': ('?', '?'), 'fk-neftchi-vs-sumqayit': ('0', '2'), 'Keshla-vs-Qarabag-FK': ('0', '0'), 'Anderlecht-vs-Oud-Heverlee-Leuven': ('?', '?'), 'FC-Femina-White-Star-Woluwe-vs-Club-Brugge': ('?', '?'), 'Genk-vs-KAA-Gent': ('?', '?'), 'fc-minsk-vs-fk-gorodeya': ('3', '0'), 'BATE-Borisov-Reserves-vs-Smolevichy-Reserves': ('2', '0'), 'Dinamo-Minsk-Reserves-vs-Dynamo-Brest-Reserves': ('1', '0'), 'shakhtyor-soligorsk-reserves-vs-fk-vitebsk-reserves': ('2', '0'), 'rukh-brest-reserves-vs-neman-grodno-reserves': ('1', '3'), 'Energetik-BGU-Reserves-vs-FK-Slutsk-Reserves': ('?', '?'), 'fk-sarajevo-vs-borac-banja-luka': ('4', '2'), 'Avai-FC-vs-Ponte-Preta': ('?', '?'), 'Cruzeiro-vs-Vitoria': ('?', '?'), 'Ituano-FC-vs-Criciuma': ('?', '?'), 'Sao-Caetano-vs-Monte-Azul': ('?', '?'), 'botev-vratsa-vs-arda-kardzhali': ('0', '0'), 'botev-plovdiv-vs-fc-tsarsko-selo-sofia-2015': ('0', '0'), 'National-Defense-Ministry-FC-vs-Kirivong-Soksen-Chey': ('?', '?'), 'Soltilo-Angkor-FC-vs-Phnom-Penh-Crown': ('?', '?'), 'Beijing-BG-Phoenix-FC-vs-Hebei-Yuandong': ('?', '?'), 'Wuhan-Jiangda-vs-Shanghai-Shengli': ('?', '?'), 'Meizhou-Wuhua-FC-vs-Hangzhou-Xizi': ('?', '?'), 'Henan-Jianye-vs-Shandong-Sports-Lottery': ('?', '?'), 'Jiangsu-Suning-FC-vs-Changchun-Dazhong-Zhiye': ('?', '?'), 'America-de-Cali-vs-Atletico-Junior': ('?', '?'), 'slaven-vs-sibenik': ('0', '0'), 'Dubrava-Zagreb-vs-Inter-Zapresic': ('0', '2'), 'onisilos-sotira-vs-aris-limassol': ('1', '1'), 'FC-Viktoria-Otrokovice-vs-FC-Fastav-Zlin-B': ('?', '?'), 'Frydek-Mistek-vs-Unicov': ('?', '?'), 'FC-Vysocina-Jihlava-B-vs-Dolni-Benesov': ('?', '?'), 'pisek-vs-benesov': ('0', '2'), 'SK-Rakovnik-vs-Jiskra-Domazlice': ('?', '?'), 'FK-TJ-Stechovice-vs-1.-FC-Karlovy-Vary': ('?', '?'), 'FK-Teplice-B-vs-Usti-nad-Orlici': ('?', '?'), 'FK-Jablonec-B-vs-FC-Slovan-Liberec-B': ('?', '?'), 'FK-Zbuzany-1953-vs-Bohemians-1905-B': ('?', '?'), 'FK-Prepere-vs-FK-Chlumec-nad-Cidlinou': ('?', '?'), 'FC-Viktoria-Plzen-vs-Opava': ('?', '?'), 'FC-Zbrojovka-Brno-vs-FC-Banik-Ostrava': ('?', '?'), 'Meteor-Praha-vs-1.FK-Pribram': ('?', '?'), 'Slavia-Prague-U19-vs-FC-Hradec-Kralove': ('?', '?'), 'Lokomotiva-Brno-Horni-Herspice-vs-FK-Pardubice': ('?', '?'), 'FC-Viktoria-Plzen-vs-FC-Slovan-Liberec': ('?', '?'), 'fc-roskilde-vs-broenshoej': ('1', '0'), 'hik-vs-skovshoved': ('3', '2'), 'Taarnby-FF-vs-Ishoej-IF': ('3', '2'), 'Ballerup-Skovlunde-vs-BK-Union': ('?', '?'), 'Skjold-Birkeroed-vs-Roskilde-Boldklub': ('?', '?'), 'Kolding-B-vs-Hedensted': ('1', '3'), 'Marienlyst-vs-OKS': ('4', '2'), 'IF-Skjold-Saeby-vs-Kjellerup': ('1', '1'), 'ASA-Aarhus-vs-Odense-Q': ('?', '?'), 'Mushuc-Runa-vs-LDU-Portoviejo': ('?', '?'), 'LDU-de-Quito-vs-Guayaquil-City': ('?', '?'), 'fc-masr-vs-al-ittihad-al-sakandary': ('2', '2'), 'el-geish-vs-el-gounah': ('4', '1'), 'tanta-vs-misr-el-maqasa': ('0', '2'), 'al-ahly-vs-ismaily-sc': ('1', '0'), 'Aston-Villa-U18-vs-Leicester-City-U18': ('?', '?'), 'Brighton-&-Hove-Albion-U18-vs-Chelsea-U18': ('?', '?'), 'Everton-U18-vs-Blackburn-Rovers-U18': ('?', '?'), 'Fulham-U18-vs-Crystal-Palace-U18': ('?', '?'), 'Leeds-United-U18-vs-Middlesbrough-U18': ('?', '?'), 'Stoke-City-U18-vs-Burnley-U18': ('?', '?'), 'West-Ham-United-U18-vs-Tottenham-Hotspur-U18': ('?', '?'), 'arsenal-u23-vs-southampton-u23': ('1', '2'), 'newcastle-united-u23-vs-middlesbrough-u23': ('2', '2'), 'Flora-Tallinn-vs-Tulevik-Viljandi': ('?', '?'), 'Talinna-Kalev-vs-Flora-Tallinn': ('?', '?'), 'Flora-Tallinn-U21-vs-Tammeka-U21': ('?', '?'), 'Parnu-JK-Vaprus-vs-Maardu-Linnameeskond': ('?', '?'), 'Vaendra-JK-Vaprus-vs-FC-Elva': ('?', '?'), 'B68-Toftir-vs-Ki-Klaksvik-II': ('?', '?'), '07-Vestur-Sorvagur-vs-HB-Torshavn-II': ('?', '?'), 'B36-Torshavn-II-vs-FC-Hoyvik': ('?', '?'), 'NSI-Runavik-II-vs-Vikingur-Gota-II': ('?', '?'), 'mikkelin-palloilijat-vs-ff-jaro': ('1', '2'), 'pk-35-helsinki-vs-pk-keski-uusimaa': ('1', '0'), 'atlantis-vs-grifk-grankulla': ('2', '1'), 'gbk-vs-fc-kiisto': ('2', '2'), 'jbk-vs-vifk': ('1', '0'), 'New-York-Red-Bulls-II-vs-Philadelphia-Union-II': ('?', '?'), 'Annecy-FC-vs-Concarneau': ('?', '?'), 'avranches-vs-fc-bastia-borgo': ('0', '2'), 'Boulogne-vs-Le-Mans': ('0', '0'), 'cholet-vs-laval': ('1', '1'), 'Lyon-la-Duchere-vs-Creteil': ('0', '0'), 'red-star-vs-villefranche-beaujolais': ('0', '2'), 'Stade-Briochin-vs-Orleans': ('?', '?'), 'sc-bastia-vs-bourg-en-bresse-peronnas': ('1', '0'), 'bergerac-perigord-vs-as-beziers': ('1', '1'), 'Angouleme-vs-Les-Herbiers': ('?', '?'), 'montpellier-vs-guingamp': ('2', '0'), 'reims-vs-olympique-lyonnais': ('0', '3'), 'bayer-leverkusen-vs-msv-duisburg': ('2', '0'), 'bsv-rehden-vs-hannover-96-ii': ('2', '2'), 'homburg-vs-vfb-stuttgart-ii': ('3', '0'), 'sonnenhof-grossaspach-vs-kickers-offenbach': ('0', '2'), 'aris-thessaloniki-fc-vs-lamia': ('3', '1'), 'paok-thessaloniki-fc-vs-ae-larissa': ('1', '0'), 'ferencvaros-vs-paksi-se': ('5', '0'), 'Augnablik-vs-IA-Akranes': ('?', '?'), 'bohemian-fc-vs-waterford-fc': ('0', '2'), 'bohemian-fc-vs-derry-city': ('?', '?'), 'dundalk-vs-shamrock-rovers': ('?', '?'), 'st-patrick-s-athletic-vs-shelbourne': ('?', '?'), 'waterford-fc-vs-sligo-rovers': ('?', '?'), 'dundalk-vs-shelbourne': ('2', '2'), 'finn-harps-vs-cork-city': ('?', '?'), 'Athlone-Town-vs-Shamrock-Rovers-B': ('?', '?'), 'cabinteely-vs-athlone-town': ('1', '1'), 'Cabinteely-vs-UCD': ('?', '?'), 'Galway-United-FC-vs-Bray-Wanderers': ('?', '?'), 'galway-united-fc-vs-shamrock-rovers-b': ('1', '0'), 'wexford-fc-vs-bray-wanderers': ('1', '0'), 'Wexford-FC-vs-Drogheda-United': ('?', '?'), 'shimizu-s-pulse-vs-kashima-antlers': ('?', '?'), 'vissel-kobe-vs-fc-tokyo': ('?', '?'), 'ehime-fc-vs-jef-united-chiba': ('?', '?'), 'tokushima-vortis-vs-zweigen-kanazawa': ('?', '?'), 'Grulla-Morioka-vs-YSCC': ('?', '?'), 'Fujieda-MYFC-vs-Kamatamare-Sanuki': ('?', '?'), 'Kataller-Toyama-vs-Gamba-Osaka-U23': ('?', '?'), 'Gainare-Tottori-vs-Azul-Claro-Numazu': ('?', '?'), 'Roasso-Kumamoto-vs-SC-Sagamihara': ('?', '?'), 'NTV-Beleza-vs-INAC-Kobe-Leonessa': ('?', '?'), 'Urawa-Ladies-vs-Iga-Kunoichi': ('?', '?'), 'Cerezo-Osaka-Sakai-vs-Vegalta-Sendai-Ladies': ('?', '?'), 'Al-Jazeera-vs-Al-Salt': ('?', '?'), 'Al-Sareeh-vs-Al-Salt': ('?', '?'), 'Shabab-Al-Ordon-vs-Aqaba': ('?', '?'), 'Shabab-Al-Ordon-vs-Ramtha-SC': ('?', '?'), 'zhetysu-taldykorgan-vs-okzhetpes-kokshetau': ('1', '0'), 'shakhter-karagandy-vs-taraz': ('1', '1'), 'Ordabasy-Shymkent-vs-FC-Astana': ('?', '?'), 'Nevezis-vs-Dainava-Alytus': ('0', '0'), 'Lietava-Jonava-vs-FK-Panevezys-B': ('?', '?'), 'vilnius-vytis-vs-suduva': ('0', '3'), 'perak-vs-uitm': ('1', '0'), 'selangor-vs-melaka-united': ('1', '1'), 'terengganu-vs-johor-darul-ta-zim-fc': ('0', '1'), 'UKM-FC-vs-Kelantan-United': ('1', '0'), 'necaxa-vs-cd-guadalajara': ('?', '?'), 'fc-juarez-vs-puebla': ('?', '?'), 'Cruz-Azul-vs-Tigres': ('?', '?'), 'Alebrijes-Oaxaca-vs-Tlaxcala-F.C.': ('?', '?'), 'Necaxa-vs-Chivas-Guadalajara': ('1', '1'), 'FC-Juarez-U20-vs-Puebla': ('1', '0'), 'dinamo-auto-vs-codru': ('7', '0'), 'CF-Sparta-Selemet-vs-FC-Sucleia': ('3', '1'), 'FC-Falesti-vs-FC-Cahul-2005': ('1', '10'), 'FC-Tighina-vs-FC-Sheriff-Tiraspol-2': ('0', '1'), 'Olimp-Comrat-vs-FC-Zaria-Balti': ('0', '2'), 'ADO-Den-Haag-vs-Excelsior/Barendrecht': ('?', '?'), 'FC-Twente-vs-PEC-Zwolle': ('?', '?'), 'VV-Alkmaar-vs-AFC-Ajax': ('?', '?'), 'Luqueno-vs-12-de-Octubre': ('?', '?'), 'Club-River-Plate-vs-Olimpia': ('?', '?'), 'alianza-universidad-vs-binacional': ('1', '2'), 'alianza-lima-vs-cd-ut-cajamarca': ('?', '?'), 'jagiellonia-bialystok-vs-podbeskidzie-bielsko-biala': ('2', '2'), 'wisla-plock-vs-legia-warszawa': ('0', '1'), 'gks-jastrzebie-vs-radomiak-radom': ('0', '1'), 'miedz-legnica-vs-resovia': ('4', '0'), 'puszcza-niepolomice-vs-korona-kielce': ('0', '0'), 'odra-opole-vs-zaglebie-sosnowiec': ('1', '0'), 'wigry-suwalki-vs-skra-czestochowa': ('2', '1'), 'MKS-Pogon-Szczecin-U18-vs-KS-Gornik-Zabrze-U18': ('?', '?'), 'MKS-Arka-Gdynia-U18-vs-Kks-Lech-Poznan-U18': ('?', '?'), 'Uks-Sms-Lodz-U18-vs-Fcb-Escola-Varsovia-U18': ('?', '?'), 'Wks-Slask-Wroclaw-Sa-U18-vs-Korona-Kielce-U18': ('?', '?'), 'Gornik-Leczna-vs-GKS-Katowice': ('?', '?'), 'Kkp-Bydgoszcz-vs-AZS-Wroclaw': ('?', '?'), 'ulsan-hyundai-vs-fc-seoul': ('?', '?'), 'gwangju-fc-vs-jeonbuk-fc': ('?', '?'), 'incheon-united-vs-gangwon-fc': ('?', '?'), 'seongnam-fc-vs-gwangju-fc': ('?', '?'), 'suwon-bluewings-vs-jeonbuk-fc': ('?', '?'), 'sangju-sangmu-vs-seongnam-fc': ('?', '?'), 'ulsan-hyundai-vs-daegu-fc': ('?', '?'), 'seoul-e-land-fc-vs-chungnam-asan-fc': ('?', '?'), 'gyeongnam-fc-vs-jeju-united': ('?', '?'), 'jeonnam-dragons-vs-gyeongnam-fc': ('?', '?'), 'seoul-e-land-fc-vs-jeonnam-dragons': ('?', '?'), 'Chuncheon-FC-vs-Jeonju-Citizen': ('?', '?'), 'Gyeongju-Citizen-FC-vs-Yangju-Citizens': ('?', '?'), 'Cheonan-City-vs-Pyeongtaek-Citizen': ('?', '?'), 'Gimpo-Citizen-vs-Gyeongju-H-&-N': ('?', '?'), 'Changwon-City-vs-Cheongju-FC': ('?', '?'), 'Daejeon-Korail-vs-Hwaseong': ('?', '?'), 'Gangneung-City-vs-Mokpo-City': ('?', '?'), 'Gimhae-vs-Busan-Transport-Corp': ('?', '?'), 'fc-arges-pitesti-vs-uta-arad': ('1', '1'), 'dinamo-bucuresti-vs-botosani': ('1', '1'), 'acs-fotbal-comuna-recea-vs-viitorul-pandurii-targu-jiu': ('?', '?'), 'cs-aerostar-bacau-vs-csm-resita': ('?', '?'), 'fc-metaloglobus-bucuresti-vs-concordia-chiajna': ('?', '?'), 'fc-unirea-slobozia-vs-cs-mioveni': ('?', '?'), 'pandurii-vs-turris-oltul': ('?', '?'), 'csm-slatina-vs-rapid-bucuresti': ('?', '?'), 'inter-cherkessk-vs-ska-rostov': ('1', '4'), 'rodina-vs-znamya': ('1', '1'), 'Leningradets-vs-FC-Dolgoprudny': ('?', '?'), 'Krylya-Sovetov-Samara-II-vs-Tyumen': ('?', '?'), 'cukaricki-vs-fk-crvena-zvezda': ('1', '3'), 'Radnicki-Pirot-vs-Dinamo-Vranje': ('1', '0'), 'zlate-moravce-vs-fk-senica': ('2', '2'), 'MFk-Dukla-Banska-Bystrica-vs-Senica': ('?', '?'), 'MSK-Zilina-vs-Ruzomberok': ('?', '?'), 'Slovan-Bratislava-U19-vs-Nitra': ('?', '?'), 'Trencin-vs-ZP-Sport-Podbrezova': ('?', '?'), 'fuzinar-vs-nd-beltinci': ('1', '2'), 'umeaa-ik-vs-vaexjoe': ('1', '3'), 'schaffhausen-vs-lugano': ('1', '1'), 'lokomotiv-pamir-vs-kuktosh': ('2', '1'), 'Gwambina-FC-vs-Kagera-Sugar': ('0', '0'), 'Azam-FC-vs-Coastal-Union': ('2', '0'), 'ahrobiznes-volochysk-vs-krystal-kherson': ('4', '2'), 'mfk-mykolaiv-vs-metalist-1925': ('1', '2'), 'Nyva-Ternopil-vs-Alians': ('1', '1'), 'Obolon-Brovar-vs-FC-Prykarpattia-1981': ('4', '1'), 'vpk-ahro-shevchenkivka-vs-volyn': ('1', '1'), 'Chornomorets-Odessa-vs-FC-Hirnyk-Sport': ('1', '1'), 'dynamo-kyiv-u19-vs-sfc-desna-chernihiv-u19': ('2', '0'), 'sc-dnipro-1-vs-fc-olimpik-donetsk': ('4', '0'), 'Kolos-Kovalivka-vs-FC-Lviv': ('?', '?'), 'FC-Rukh-LVIV-U19-vs-Shakhtar-Donetsk-U19': ('?', '?'), 'FC-Rukh-LVIV-U21-vs-Shakhtar-Donetsk': ('?', '?'), 'Kolos-Kovalivka-U21-vs-FC-Lviv': ('0', '0'), 'sc-dnipro-1-u21-vs-olimpik-donetsk': ('4', '2'), 'Vorskla-Poltava-vs-FC-Ingulets-U21': ('?', '?'), 'Zorya-Lugansk-vs-FC-Mariupol': ('?', '?'), 'Charleston-Battery-vs-Tampa-Bay-Rowdies': ('?', '?'), 'Miami-FC-vs-North-Carolina-FC': ('?', '?'), 'Austin-Bold-vs-Orange-County-SC': ('?', '?'), 'Phoenix-Rising-FC-vs-Las-Vegas-Lights-FC': ('?', '?'), 'Toronto-FC-II-vs-North-Texas-SC': ('?', '?'), 'New-England-Revolution-II-vs-Richmond-Kickers': ('?', '?'), 'South-Georgia-Tormenta-FC-vs-Orlando-City-B': ('?', '?'), 'South-Georgia-Tormenta-FC-vs-Union-Omaha': ('?', '?'), 'Sogdiyona-Jizzax-vs-Mashal-Muborak': ('0', '1'), 'Buxoro-vs-Kokand-1912': ('2', '2'), 'ba-ria-vung-tau-fc-vs-ho-chi-minh-city-fc': ('2', '3'), 'ha-noi-fc-vs-xskt-can-tho': ('7', '0'), 'Sl-Benfica-vs-CF-Belenenses': ('?', '?'), 'Sp.-Braga-U23-vs-Academica-Coimbra': ('?', '?'), 'Inglewood-United-vs-Perth-Glory-Youth': ('?', '?'), 'Perth-vs-Balcatta': ('?', '?'), 'Rockingham-City-FC-vs-Bayswater-City': ('?', '?'), 'Cockburn-City-vs-Gwelup-Croatia': ('?', '?'), 'ECU-Joondalup-vs-Armadale': ('?', '?'), 'Floreat-Athena-vs-Sorrento': ('?', '?')}\n"
          ],
          "name": "stdout"
        }
      ]
    },
    {
      "cell_type": "code",
      "metadata": {
        "id": "9sC-jOkzuPgT",
        "colab_type": "code",
        "colab": {}
      },
      "source": [
        ""
      ],
      "execution_count": 3,
      "outputs": []
    },
    {
      "cell_type": "code",
      "metadata": {
        "id": "JTEfFA7Gucgx",
        "colab_type": "code",
        "colab": {}
      },
      "source": [
        ""
      ],
      "execution_count": null,
      "outputs": []
    }
  ]
}